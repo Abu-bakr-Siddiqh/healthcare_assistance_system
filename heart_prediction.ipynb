{
  "nbformat": 4,
  "nbformat_minor": 0,
  "metadata": {
    "colab": {
      "provenance": [],
      "authorship_tag": "ABX9TyNYheBtt3u5lZ8AmBn91jtI"
    },
    "kernelspec": {
      "name": "python3",
      "display_name": "Python 3"
    },
    "language_info": {
      "name": "python"
    }
  },
  "cells": [
    {
      "cell_type": "code",
      "execution_count": null,
      "metadata": {
        "id": "mgPUbom-UMEk"
      },
      "outputs": [],
      "source": [
        "import pandas as pd\n",
        "import seaborn as sns"
      ]
    },
    {
      "cell_type": "code",
      "source": [
        "df = pd.read_csv(\"heart.csv\")"
      ],
      "metadata": {
        "id": "UYv3akSpUTF1"
      },
      "execution_count": null,
      "outputs": []
    },
    {
      "cell_type": "code",
      "source": [
        "from sklearn.pipeline import make_pipeline\n",
        "from sklearn.preprocessing import StandardScaler\n",
        "\n",
        "# Train Test Split\n",
        "from sklearn.model_selection import train_test_split\n",
        "\n",
        "# Metrics\n",
        "from sklearn.metrics import confusion_matrix, accuracy_score\n",
        "\n",
        "# Models\n",
        "from sklearn.neighbors import KNeighborsClassifier\n"
      ],
      "metadata": {
        "id": "Fuirv9UUUdKY"
      },
      "execution_count": null,
      "outputs": []
    },
    {
      "cell_type": "code",
      "source": [
        "df.rename(columns={\"cp\": \"chest_pain\",\n",
        "                   \"trtbps\":\"blood_pressure\",\n",
        "                   \"chol\":\"cholestoral\",\n",
        "                   \"fbs\":\"fasting_blood_sugar\",\n",
        "                   \"thalachh\":\"max_heart_rate\",\n",
        "                   \"exng\":\"angina\",\n",
        "                   \"caa\": \"n_vessels\",\n",
        "                   \"target\":\"heart_attack\"},\n",
        "          inplace=True)"
      ],
      "metadata": {
        "id": "oTR0at76U3kv"
      },
      "execution_count": null,
      "outputs": []
    },
    {
      "cell_type": "code",
      "source": [
        "y = df['heart_attack']\n",
        "X = df.drop(['heart_attack'],axis = 1)\n",
        "x_train, x_test, y_train, y_test = train_test_split(X,y,test_size=0.2, random_state=42)"
      ],
      "metadata": {
        "id": "dkqrAqU2Um_h"
      },
      "execution_count": null,
      "outputs": []
    },
    {
      "cell_type": "code",
      "source": [
        "mdl = make_pipeline(StandardScaler(), KNeighborsClassifier()) \n",
        "\n",
        "mdl.fit(x_train,y_train)\n",
        "y_pred = mdl.predict(x_test)"
      ],
      "metadata": {
        "id": "rjGT3rNyUpPt"
      },
      "execution_count": null,
      "outputs": []
    },
    {
      "cell_type": "code",
      "source": [
        "import pickle"
      ],
      "metadata": {
        "id": "bad95sGGU80z"
      },
      "execution_count": null,
      "outputs": []
    },
    {
      "cell_type": "code",
      "source": [
        "filename = 'heart_model.pkl'\n",
        "pickle.dump(mdl, open(filename, 'wb'))\n",
        " "
      ],
      "metadata": {
        "id": "D-lYOL4rVG7f"
      },
      "execution_count": null,
      "outputs": []
    },
    {
      "cell_type": "code",
      "source": [],
      "metadata": {
        "id": "xL_R-6RsVQR3"
      },
      "execution_count": null,
      "outputs": []
    }
  ]
}